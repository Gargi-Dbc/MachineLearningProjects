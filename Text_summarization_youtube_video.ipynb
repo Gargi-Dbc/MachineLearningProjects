{
  "nbformat": 4,
  "nbformat_minor": 0,
  "metadata": {
    "colab": {
      "name": "Text_summarization_youtube_video.ipynb",
      "provenance": [],
      "authorship_tag": "ABX9TyN0HN7xb/4FC6SaiQLl2w0Y",
      "include_colab_link": true
    },
    "kernelspec": {
      "name": "python3",
      "display_name": "Python 3"
    },
    "language_info": {
      "name": "python"
    }
  },
  "cells": [
    {
      "cell_type": "markdown",
      "metadata": {
        "id": "view-in-github",
        "colab_type": "text"
      },
      "source": [
        "<a href=\"https://colab.research.google.com/github/GargiChakraverty/MachineLearningProjects/blob/main/Text_summarization_youtube_video.ipynb\" target=\"_parent\"><img src=\"https://colab.research.google.com/assets/colab-badge.svg\" alt=\"Open In Colab\"/></a>"
      ]
    },
    {
      "cell_type": "markdown",
      "metadata": {
        "id": "lEQNBfZH3XGo"
      },
      "source": [
        "Abstractive Summarization using HuggingFace transformers"
      ]
    },
    {
      "cell_type": "code",
      "metadata": {
        "id": "pxhpk3Kp3Dgz"
      },
      "source": [
        "!pip install -q transformers\n",
        "!pip install -q youtube_transcript_api"
      ],
      "execution_count": 9,
      "outputs": []
    },
    {
      "cell_type": "code",
      "metadata": {
        "id": "rZW5ci7x34qg"
      },
      "source": [
        "from transformers import pipeline\n",
        "from youtube_transcript_api import YouTubeTranscriptApi"
      ],
      "execution_count": 11,
      "outputs": []
    },
    {
      "cell_type": "code",
      "metadata": {
        "id": "2ozOH4f-6Gn3"
      },
      "source": [
        "youtube_video=\"https://www.youtube.com/watch?v=J6D-S9gfgwk&list=PLreVlKwe2Z0RJw-OcwXZs_z472KsrADJY\"\n",
        "\n"
      ],
      "execution_count": 12,
      "outputs": []
    },
    {
      "cell_type": "code",
      "metadata": {
        "colab": {
          "base_uri": "https://localhost:8080/"
        },
        "id": "43idXxVYXs1O",
        "outputId": "153cfede-ec15-407b-ed8e-c3b5496cb121"
      },
      "source": [
        "video_id=youtube_video.split(\"=\")[1]+youtube_video.split(\"=\")[2]\n",
        "print(video_id)"
      ],
      "execution_count": 15,
      "outputs": [
        {
          "output_type": "stream",
          "text": [
            "J6D-S9gfgwk&listPLreVlKwe2Z0RJw-OcwXZs_z472KsrADJY\n"
          ],
          "name": "stdout"
        }
      ]
    },
    {
      "cell_type": "code",
      "metadata": {
        "id": "mqTigP61X_Jp"
      },
      "source": [
        "transcript=YouTubeTranscriptApi.get_transcript(video_id)"
      ],
      "execution_count": 16,
      "outputs": []
    },
    {
      "cell_type": "code",
      "metadata": {
        "colab": {
          "base_uri": "https://localhost:8080/"
        },
        "id": "sEBF4v3bd5sf",
        "outputId": "42e8e8a5-a8ea-45e3-9045-1b1e7a850957"
      },
      "source": [
        "transcript[0:5]"
      ],
      "execution_count": 18,
      "outputs": [
        {
          "output_type": "execute_result",
          "data": {
            "text/plain": [
              "[{'duration': 6.71, 'start': 1.37, 'text': '[Music]'},\n",
              " {'duration': 3.681, 'start': 6.399, 'text': 'hello everyone'},\n",
              " {'duration': 3.28,\n",
              "  'start': 8.08,\n",
              "  'text': 'machine learning is an ever-evolving'},\n",
              " {'duration': 3.36, 'start': 10.08, 'text': 'field'},\n",
              " {'duration': 3.12,\n",
              "  'start': 11.36,\n",
              "  'text': 'one subfield inside machine learning'}]"
            ]
          },
          "metadata": {
            "tags": []
          },
          "execution_count": 18
        }
      ]
    },
    {
      "cell_type": "code",
      "metadata": {
        "colab": {
          "base_uri": "https://localhost:8080/"
        },
        "id": "hPenCWo7eEGW",
        "outputId": "60102fe5-6a5f-4919-c2df-b016d5094f85"
      },
      "source": [
        "result=\"\"\n",
        "for i in transcript:\n",
        "  result +=' '+i['text']\n",
        "\n",
        "print(result)\n",
        "len(result)"
      ],
      "execution_count": 20,
      "outputs": [
        {
          "output_type": "stream",
          "text": [
            " [Music] hello everyone machine learning is an ever-evolving field one subfield inside machine learning that has evolved greatly in the span of two to three years is natural language processing and one of the major contribution in the field of natural language processing is being made by this amazing organization called as hugging face in today's video i'll show you how you can extract model predictions directly using the phenomenon called as zero shot classification so without wasting any further time let's get started but hey hold on it would be really motivating if you can press the subscribe button and also press the bell icon to be notified for amazing videos that i create on machine learning and data science with that let's kick start the video in the first part of the video i'll show you how you can utilize zero shot classification for making a prediction on a sentence so now one question that would populate in your mind is what exactly is zero shot classification well zero shot classification allows us to classify data which wasn't used to build the model what i simply mean is the model was built by someone else using a different data set altogether we are using it to run against our data and extract predictions if this idea is clear to you let's look at an example i have a simple sentence with me and the sentence is can you order some pizza and book an uber to the nearest cinema house at 10 pm so this is the sentence that i have so the different possible classes or the different possible categories that i have defined are flight travel cab travel reminders food and movies so let me go forward and press compute so as you can clearly see it is able to throw out some probabilities and all of these probabilities would add up to one so given if i have one class it is able to tell me that it is 40 percent confident that the given sentence belongs to a food category the model is 30 confident that the given sentence belongs to a cab's travel related query and so on and so forth one thing that we can also do is i can also select this box which is allow multiple classes equal to true so let me click on this and now when i press compute it will tell me that it is 91 percent confident that this query or this sentence belongs to the food category 84 percent confident that it also belongs to a cab's travel based query it is confident 77 percent that it also has some amount of movie related elements in it this demo that i am showing you exists on the official hugging face website if you want to implement something similar to this on google collab then the second part is exactly what you should wait for so without wasting any further time let's move on to the second part of the video so we finally reached a point where we'll be utilizing hugging faces transformer library to create our own version of the zero shot classification so without wasting any further time let's kick start the activity by installing the transformers library the way i would do that is by calling the command pip install transformers so let me run the cell after having installed transformers the library let's go forward and import the necessary modules in order to carry out the zero shot classification the next task in hand is to create an instance of the class pipeline supply the type of classifier that we want so ideally in this use case we want a zero shot classification so that is what is denoted in form of an input argument and i save it into a variable called as 0 underscore short underscore classifier so let me run the cell so this will essentially go forward and download the zero shot classification model after having successfully downloaded the model now we have reached a stage to make predictions in order to make predictions the three things that i will require is the input query the candidate labels are essentially the classes that i want to classify this input query into and finally do i want the multi-class output to be equal to true or false now the first input query that i pass is can you order some pisa i pass in the same classes that i had defined previously and i also want the multi-class output to be true so let me go forward and run this cell let me now go forward and show you the results in form of a visualization so let me run the cell so as you can clearly see it was a very simple query can you order pisa and the model is able to correctly classify this query into a food category query let us go forward and change the query now let me add more complexity to the query now so let me change the query from can you order some pizza two can you order some pizza and book an uber to the nearest cinema house at 10 pm so let me run the cell let us go forward and look at the result now so as you can clearly see the given query now falls into three categories my food category my cabs travel category and movies category as well let us add some more complexity to this query now the next thing that i have done is i have increased the complexity of the query so the query goes like can you order some pizza and book an uber once my flight reaches mumbai to the nearest cinema house at 10 pm so it's a very big question that i've asked to this model my categories or my labels are still the same and i'm also interested in the multi-class output so let me go forward and run this cell and let me also go forward and show you the final results as well so in this case it is very evident that the query falls in all four categories and the model is able to predict it with high accuracy so yeah this is the amazing power of zero shot classification that you can utilize going forward as well i hope you enjoyed this video if you do like the content that i post on my channel it would be really motivating if you can press the subscribe button and also press the bell icon to be notified for amazing videos on data science and machine learning thank you so much for watching this video [Music] you\n"
          ],
          "name": "stdout"
        },
        {
          "output_type": "execute_result",
          "data": {
            "text/plain": [
              "5957"
            ]
          },
          "metadata": {
            "tags": []
          },
          "execution_count": 20
        }
      ]
    },
    {
      "cell_type": "code",
      "metadata": {
        "id": "52clo2XrepVv"
      },
      "source": [
        "summarizer=pipeline('summarization')"
      ],
      "execution_count": 22,
      "outputs": []
    },
    {
      "cell_type": "code",
      "metadata": {
        "colab": {
          "base_uri": "https://localhost:8080/"
        },
        "id": "1F9PxxjeewgA",
        "outputId": "7eb25ce9-7dbc-412e-c361-be96779d9972"
      },
      "source": [
        "iterations=int(len(result)/1000)\n",
        "summarized_text=[]\n",
        "for i in range(0,iterations):\n",
        "  start=i*1000\n",
        "  end=(i+1)*1000\n",
        "  out=summarizer(result[start:end])\n",
        "  out=out[0]\n",
        "  out=out['summary_text']\n",
        "  summarized_text.append(out)\n",
        "\n",
        "print(summarized_text)\n"
      ],
      "execution_count": 23,
      "outputs": [
        {
          "output_type": "stream",
          "text": [
            "[\" Machine learning is an ever-evolving field one subfield inside machine learning that has evolved greatly in the span of two to three years is natural language processing . In the first part of the video i'll show you how you can utilize zero shot classification for making a prediction on a sentence .\", \" Classification allows us to classify data which wasn't used to build the model . The model was built by someone else using a different data set altogether . We are using it to run against our data and extract predictions if this idea is clear to you let's look at an example .\", \" We'll be utilizing hugging faces transformer library to create our own version of the zero shot classification . This demo exists on the official hugging face website if you want to implement something similar to this on google collab then the second part is exactly what you should wait for so without wasting any further time let's move on to the second .\", \" The next task in hand is to create an instance of the class pipeline supply the type of classifier that we want so ideally in this use case we want a zero shot classification . t is by calling the command pip install transformers so let me run the cell after having installed transformers the library let's go forward and import the necessary modules in order to carry out the zero shot classifier .\", ' First input query that i pass is can you order some pisa i pass in the same classes that i had defined previously and i also want the multi-class output to be true so let me go forward and show you the results in form of a visualization . The given query now falls into three categories my food category my cabs travel category and movies category as well .']\n"
          ],
          "name": "stdout"
        }
      ]
    },
    {
      "cell_type": "code",
      "metadata": {
        "colab": {
          "base_uri": "https://localhost:8080/",
          "height": 139
        },
        "id": "ItFGPVCsyONf",
        "outputId": "82646b8a-08f3-49b9-e283-f57879f1c77c"
      },
      "source": [
        "str(summarized_text)"
      ],
      "execution_count": 24,
      "outputs": [
        {
          "output_type": "execute_result",
          "data": {
            "application/vnd.google.colaboratory.intrinsic+json": {
              "type": "string"
            },
            "text/plain": [
              "'[\" Machine learning is an ever-evolving field one subfield inside machine learning that has evolved greatly in the span of two to three years is natural language processing . In the first part of the video i\\'ll show you how you can utilize zero shot classification for making a prediction on a sentence .\", \" Classification allows us to classify data which wasn\\'t used to build the model . The model was built by someone else using a different data set altogether . We are using it to run against our data and extract predictions if this idea is clear to you let\\'s look at an example .\", \" We\\'ll be utilizing hugging faces transformer library to create our own version of the zero shot classification . This demo exists on the official hugging face website if you want to implement something similar to this on google collab then the second part is exactly what you should wait for so without wasting any further time let\\'s move on to the second .\", \" The next task in hand is to create an instance of the class pipeline supply the type of classifier that we want so ideally in this use case we want a zero shot classification . t is by calling the command pip install transformers so let me run the cell after having installed transformers the library let\\'s go forward and import the necessary modules in order to carry out the zero shot classifier .\", \\' First input query that i pass is can you order some pisa i pass in the same classes that i had defined previously and i also want the multi-class output to be true so let me go forward and show you the results in form of a visualization . The given query now falls into three categories my food category my cabs travel category and movies category as well .\\']'"
            ]
          },
          "metadata": {
            "tags": []
          },
          "execution_count": 24
        }
      ]
    }
  ]
}